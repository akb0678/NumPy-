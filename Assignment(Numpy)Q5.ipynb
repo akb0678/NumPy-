{
 "cells": [
  {
   "cell_type": "code",
   "execution_count": null,
   "id": "bb996f8f",
   "metadata": {},
   "outputs": [],
   "source": [
    "# 5. Create a 10x10 array with random values and find the minimum and maximum values."
   ]
  },
  {
   "cell_type": "code",
   "execution_count": 2,
   "id": "86d76327",
   "metadata": {},
   "outputs": [
    {
     "name": "stdout",
     "output_type": "stream",
     "text": [
      "Minimum: 0\n",
      "Maximum: 99\n"
     ]
    }
   ],
   "source": [
    "import numpy as np\n",
    "arr = np.random.randint(100,size =(10,10))\n",
    "print(\"Minimum:\",arr.min())\n",
    "print(\"Maximum:\",arr.max())"
   ]
  },
  {
   "cell_type": "code",
   "execution_count": null,
   "id": "7933f29f",
   "metadata": {},
   "outputs": [],
   "source": []
  }
 ],
 "metadata": {
  "kernelspec": {
   "display_name": "Python 3 (ipykernel)",
   "language": "python",
   "name": "python3"
  },
  "language_info": {
   "codemirror_mode": {
    "name": "ipython",
    "version": 3
   },
   "file_extension": ".py",
   "mimetype": "text/x-python",
   "name": "python",
   "nbconvert_exporter": "python",
   "pygments_lexer": "ipython3",
   "version": "3.9.12"
  }
 },
 "nbformat": 4,
 "nbformat_minor": 5
}
