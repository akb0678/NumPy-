{
 "cells": [
  {
   "cell_type": "code",
   "execution_count": null,
   "id": "0b27385e",
   "metadata": {},
   "outputs": [],
   "source": [
    "# 6. Create a random vector of size 30 and find the mean value.\n"
   ]
  },
  {
   "cell_type": "code",
   "execution_count": 8,
   "id": "1743a713",
   "metadata": {},
   "outputs": [
    {
     "name": "stdout",
     "output_type": "stream",
     "text": [
      "[0.20398267 0.61637643 0.22458546 0.43450863 0.29522386 0.59807207\n",
      " 0.37791574 0.17689716 0.30852936 0.54189373 0.8207957  0.30648753\n",
      " 0.71787537 0.10957456 0.54463041 0.15563163 0.50108364 0.63377952\n",
      " 0.84796838 0.21349281 0.5384782  0.75906441 0.83190133 0.8014362\n",
      " 0.91886462 0.34114064 0.69451006 0.03582305 0.89927064 0.85220918]\n",
      "Mean : 0.5100667664699199\n"
     ]
    }
   ],
   "source": [
    "import numpy as np\n",
    "from numpy.random import random\n",
    "arr = random(30)\n",
    "print(arr)\n",
    "print(\"Mean :\",arr.mean())\n"
   ]
  },
  {
   "cell_type": "code",
   "execution_count": null,
   "id": "0332ee22",
   "metadata": {},
   "outputs": [],
   "source": []
  }
 ],
 "metadata": {
  "kernelspec": {
   "display_name": "Python 3 (ipykernel)",
   "language": "python",
   "name": "python3"
  },
  "language_info": {
   "codemirror_mode": {
    "name": "ipython",
    "version": 3
   },
   "file_extension": ".py",
   "mimetype": "text/x-python",
   "name": "python",
   "nbconvert_exporter": "python",
   "pygments_lexer": "ipython3",
   "version": "3.9.12"
  }
 },
 "nbformat": 4,
 "nbformat_minor": 5
}
